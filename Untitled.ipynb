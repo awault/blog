{
 "cells": [
  {
   "cell_type": "markdown",
   "id": "f841a97e",
   "metadata": {},
   "source": [
    "Leonardo da Vinci proclaimed \"Simplicity is the ultimate sophistication\". If you are seeking a simple and elegant solution to remove the footer content, there are only two lines of code required(the comment is optional). Simply copy and paste the following lines of code to the `custom-styles.scss` file in the `_sass\\minima` directory.\n",
    "\n",
    "\n",
    "\n",
    "```\n",
    "/* --- The following Code Removes the Footer --- */\n",
    ".site-footer {\n",
    "    display: none;}\n",
    "```\n",
    "\n",
    "Once this simple update is complete, save the update (Ctrl + S) and commit the changes. Voila... the footer is gone."
   ]
  },
  {
   "cell_type": "markdown",
   "id": "bd42f17b",
   "metadata": {},
   "source": [
    "The options for personalizing your blog are nearly infinite, but that is a wrap for this post. You can check out more of the customizations I have implemented by reviewing the [repository](https://github.com/awault/blog) for my blog on Github. If you have made it this far, thank you for taking the time, I hope you found this post helpful. If you noticed any errors or have any suggestions, please leave a comment.\n",
    "\n",
    "AA"
   ]
  },
  {
   "cell_type": "code",
   "execution_count": null,
   "id": "4f71b252",
   "metadata": {},
   "outputs": [],
   "source": []
  }
 ],
 "metadata": {
  "kernelspec": {
   "display_name": "Python [conda env:py39]",
   "language": "python",
   "name": "conda-env-py39-py"
  },
  "language_info": {
   "codemirror_mode": {
    "name": "ipython",
    "version": 3
   },
   "file_extension": ".py",
   "mimetype": "text/x-python",
   "name": "python",
   "nbconvert_exporter": "python",
   "pygments_lexer": "ipython3",
   "version": "3.9.7"
  },
  "toc": {
   "base_numbering": 1,
   "nav_menu": {},
   "number_sections": true,
   "sideBar": true,
   "skip_h1_title": true,
   "title_cell": "Table of Contents",
   "title_sidebar": "Contents",
   "toc_cell": false,
   "toc_position": {},
   "toc_section_display": true,
   "toc_window_display": true
  }
 },
 "nbformat": 4,
 "nbformat_minor": 5
}
