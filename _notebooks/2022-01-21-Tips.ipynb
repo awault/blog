{
 "cells": [
  {
   "cell_type": "markdown",
   "id": "f1154d46",
   "metadata": {},
   "source": [
    "# \"Tips for Customizing fastpages\"\n",
    "> \"Personalize Your Blog\"\n",
    "\n",
    "- toc: true \n",
    "- badges: true"
   ]
  },
  {
   "cell_type": "markdown",
   "id": "550459d8",
   "metadata": {},
   "source": [
    "The fastpages platform is an excellent tool for creating your own blog, hosted free on Github. The platform supports Jupyter notebooks, Word documents and Markdown, which is right in the wheelhouse for many analysts, data scientists and programmers or those with aspirations to work in these fields. Personally, I fit more in the analyst and aspiring programmer bucket. My knowledge of HTML is limited and I've just recently created my first blog on the fastpages platform. I discovered the learning curve to customize the platform can be steep, but I enjoy learning and digging into new technology. \n",
    "\n",
    "The basic setup for [fastpages](https://github.com/fastai/fastpages) is straightforward, so I will not spend any time on that here. And if you are reading this post, you have probably already setup the basic structure for your website on the fastpages platform and interested in ways you can customize it. In this post, we will review some simple techniques that you can implement to personalize your website. \n",
    "\n",
    "On a side note, I would like to point out the following examples are demonstrated in [Visual Studio Code](https://code.visualstudio.com/) This is my preferred application, if your using another editor the process may be slightly different."
   ]
  },
  {
   "cell_type": "markdown",
   "id": "6dfb24cc",
   "metadata": {},
   "source": [
    "## Unique Title Fonts"
   ]
  },
  {
   "cell_type": "markdown",
   "id": "08d6db05",
   "metadata": {},
   "source": [
    "One of the quickest ways to personalize your website is adding a unique font for the title. I prefer the informal charm of Rock Salt, but there are hundreds of other choices available from [Google Fonts](https://fonts.google.com/). If you desire something beyond the standard flavor, you can check out their offerings by following the link above.\n",
    "\n",
    "Once you have made your selection, there are just a few lines of code required to make the changes. I'll use the Rock Salt example from my blog, to demonstrate the implementation.\n",
    "   \n",
    "    \n",
    "- Select a title font from [Google Fonts](https://fonts.google.com/)\n",
    "    - Click on the icon in the top right hand corner to view your selected families\n",
    "    - Select the @import option and copy the corresponding code such as:\n",
    "    \n",
    "```\n",
    "@import url('https://fonts.googleapis.com/css2?family=Roboto:wght@100&family=Rock+Salt&display=swap');\n",
    "```\n",
    "\n",
    "\n",
    "- Open the repository for your website in VS Code and navigate to the `_sass\\minima` directory\n",
    "     - Open the `custom-styles.scss` file \n",
    "\n",
    "\n",
    "- Paste the code into the `custom-styles.scss` file\n",
    "\n",
    "```\n",
    "/* Import Rock Salt Font for Title */\n",
    "@import url('https://fonts.googleapis.com/css2?family=Rock+Salt&display=swap');\n",
    "```\n",
    "\n",
    "\n",
    "- Update the font-family specified for the `site-title` in the `custom-styles.scss` file\n",
    "\n",
    "```\n",
    "/*Change Site Title Font Color and Size*/\n",
    ".site-title, .site-title:visited {\n",
    "    font-family: 'Rock Salt';\n",
    "    color: #f00;\n",
    "    font-size: 275%;\n",
    "}\n",
    "```\n",
    "\n",
    "\n",
    "- Save your updates (Ctrl + S) and commit the changes to the master branch of the repository\n",
    "\n",
    "Be aware that sometimes it can take a few minutes for the updates to flow through to your website, even after all of the workflows have completed successfully. So if your changes are not implemented immediately, sometimes all we need is just a little patience.\n",
    "\n",
    "There is a screen shot below to display the new code you should see in your `custom-styles.scss` file, if you have followed the directions correctly. Most of the customizations I will discuss in this post will involve accessing the `custom-styles.scss` file, so you should become familiar with the location of this directory.\n",
    "\n",
    "As a sidenote, you can also see the code required to customize the site-header in the image below. The header size and borders can be easily customized to accommodate the new font."
   ]
  },
  {
   "cell_type": "markdown",
   "id": "387d5661",
   "metadata": {},
   "source": [
    "## Additional Pages"
   ]
  },
  {
   "cell_type": "markdown",
   "id": "75b87f02",
   "metadata": {},
   "source": [
    "The basic structure of the fastpages platform includes a landing page or index page. It contains a brief summary, along with links to posts you can create in Jupyter notebook, Markdown, or Word. Within the header there are navigation links to three other pages; About Me, Search and Tags. If you would like to create additional pages with a link in the header, the process is simple.\n",
    "\n",
    "- Open the repository in VS Code and navigate to the `_pages` directory\n",
    "\n",
    "\n",
    "- Create a copy of the `about.md` file in the `_pages directory` (copy and paste)\n",
    "\n",
    "\n",
    "- Rename the file (e.g. Another Page) and update the Front Matter to correspond to the new name \n",
    "    - Update the title and permalink \n",
    "    - Add any new content you like with Markdown under the Front Matter (i.e. below the ---)\n",
    "    - Here is a great resource if you are unfamiliar with [Markdown](https://www.markdownguide.org/cheat-sheet/)\n",
    "\n",
    "\n",
    "- Save your changes (Ctrl + S) and commit the changes to the repository\n",
    "\n",
    "\n",
    "If you followed these steps correctly, a new page will be created for your blog. The navigation links in the header will update automatically to reflect the changes after you push the commit."
   ]
  },
  {
   "cell_type": "markdown",
   "id": "3219fe74",
   "metadata": {},
   "source": [
    "## Custom Favicon"
   ]
  },
  {
   "cell_type": "markdown",
   "id": "e63e6c82",
   "metadata": {},
   "source": [
    "If your browsing behavior is anything like mine, you probably have links for all your favorite websites bookmarked in your browser. A favicon is a shortcut icon you can save on your bookmarks toolbar, which is more compact and often preferable to text. The fastpages platform comes complete with a favicon, which is a nice touch. But if you want to further personalize you website, you can create your own favicon in just a few steps.\n",
    "\n",
    "The favicon is saved as an ICO file in the images directory. Simply create a new favicon image and save it with the same name. The image dimensions for the original file is 25px x 35px, so aim for an image file with similar dimensions. If you already have an image, fantastic. Otherwise, you can head over to [favicon.io](https://favicon.io/) and create a custom favicon from a PNG image, text or even an emoji. 👍 \n",
    "\n",
    "Here is a breakdown of the process:\n",
    "\n",
    "- Create an ICO file with the new favicon image\n",
    "\n",
    "\n",
    "- Add the new file to the `images` directory in the master branch of the repository\n",
    "    - Name the file `favicon.ico`\n",
    "    - Agree to replace the existing file\n",
    "\n",
    "\n",
    "- Save your changes (Ctrl + S) and commit the changes to the repository"
   ]
  },
  {
   "cell_type": "markdown",
   "id": "ffd81889",
   "metadata": {},
   "source": [
    "## Header Logo"
   ]
  },
  {
   "cell_type": "markdown",
   "id": "fe0cc5bc",
   "metadata": {},
   "source": [
    "Many blogs or websites contain a logo image in the header. This is a nice way to personalize your site and the process is manageable without editing any html. You could use a larger image, that matches the favicon created in the prior step if you choose.\n",
    "\n",
    "- Select an image and resize as necessary\n",
    "    - If you need to resize a `.png` image, check out [onlinepngtools.com](https://onlinepngtools.com/resize-png)\n",
    "    \n",
    "    \n",
    "- Save the image in the `images` directory\n",
    "    - e.g. `logo75x75.png`\n",
    "    \n",
    "    \n",
    "- Update the `custom-styles.scss` file with the following code\n",
    "```\n",
    "/*Add logo next to site title */\n",
    ".site-title::before {\n",
    "    content: url(\"/images/logo75X75.png\");\n",
    "    display: inline-block;\n",
    "    position: relative;\n",
    "}\n",
    "```\n",
    "\n",
    "\n",
    "- Save your changes (Ctrl + S) and commit the changes to the repository\n",
    "\n",
    "\n"
   ]
  },
  {
   "cell_type": "code",
   "execution_count": null,
   "id": "1e805beb",
   "metadata": {},
   "outputs": [],
   "source": []
  }
 ],
 "metadata": {
  "kernelspec": {
   "display_name": "Python [conda env:py39]",
   "language": "python",
   "name": "conda-env-py39-py"
  },
  "language_info": {
   "codemirror_mode": {
    "name": "ipython",
    "version": 3
   },
   "file_extension": ".py",
   "mimetype": "text/x-python",
   "name": "python",
   "nbconvert_exporter": "python",
   "pygments_lexer": "ipython3",
   "version": "3.9.7"
  },
  "toc": {
   "base_numbering": 1,
   "nav_menu": {},
   "number_sections": true,
   "sideBar": true,
   "skip_h1_title": true,
   "title_cell": "Table of Contents",
   "title_sidebar": "Contents",
   "toc_cell": false,
   "toc_position": {
    "height": "calc(100% - 180px)",
    "left": "10px",
    "top": "150px",
    "width": "256.4px"
   },
   "toc_section_display": true,
   "toc_window_display": true
  }
 },
 "nbformat": 4,
 "nbformat_minor": 5
}
