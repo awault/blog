{
 "cells": [
  {
   "cell_type": "markdown",
   "id": "666133be",
   "metadata": {},
   "source": [
    "# \"Five Tips to Customize fastpages\"\n",
    "> \"Create a personalized blog hosted free on Github.\"\n",
    "\n",
    "- toc: false\n",
    "- branch: master\n",
    "- image: images/post_images/logo.png\n",
    "- badges: true\n",
    "- comments: true\n",
    "- author: Adam Ault\n",
    "- categories: [fastpages, jupyter]"
   ]
  },
  {
   "cell_type": "markdown",
   "id": "27be8be0",
   "metadata": {},
   "source": [
    "The fastpages platform is an excellent option for creating your own blog, hosted free on Github. The platform supports Jupyter notebooks, Word documents and Markdown, which is right in the wheelhouse for many analysts, data scientists and programmers. My knowledge of HTML and website development is limited and I've just recently created my first blog on the fastpages platform. I discovered the learning curve to customize the platform can be steep, but I enjoy digging into new technology. I thought it would be beneficial to assemble a post to help others in their journey.\n",
    "\n",
    "The basic setup for [fastpages](https://github.com/fastai/fastpages) is straightforward, so I'm not going to spend any time on that here. If you are reading this post, you have probably already setup a blog on the fastpages platform and searching for ways to personalize it. In this post, I will review some simple code that you can easily implement to personalize your blog.\n",
    "\n",
    "On a side note, I will be using [Visual Studio Code](https://code.visualstudio.com/) to modify the code in the following examples. If your using another editor, the process may be slightly different."
   ]
  },
  {
   "cell_type": "markdown",
   "id": "5a43d692",
   "metadata": {},
   "source": [
    "---"
   ]
  },
  {
   "cell_type": "markdown",
   "id": "69b75ab6",
   "metadata": {},
   "source": [
    "## Add a Unique Title Font"
   ]
  },
  {
   "cell_type": "markdown",
   "id": "3fc81d4a",
   "metadata": {},
   "source": [
    "Adding a unique title font is one of the fastest ways to customize your blog. Personally, I prefer the informal charm of Rock Salt, but there are hundreds of other choices available from [Google Fonts](https://fonts.google.com/). If you desire something beyond the standard flavor, you can check out their offerings by following the link above.\n",
    "\n",
    "Once you have made your selection, there are only a few lines of code required to make the changes. I'll use the Rock Salt example from my blog, to demonstrate the implementation.\n",
    "   \n",
    "    \n",
    "**Select a title font from [Google Fonts](https://fonts.google.com/)**\n",
    "\n",
    "- Click on the icon in the top right hand corner to view your selected families\n",
    "    \n",
    "- Select the @import option and copy the corresponding code such as:\n",
    "    \n",
    "```\n",
    "@import url('https://fonts.googleapis.com/css2?family=Roboto:wght@100&family=Rock+Salt&display=swap');\n",
    "```\n",
    "\n",
    "**Open the repository and navigate to the `_sass\\minima` directory**\n",
    "    \n",
    "- Open the `custom-styles.scss` file \n",
    "\n",
    "**Paste the code into the `custom-styles.scss` file**\n",
    "\n",
    "```\n",
    "/* Import Rock Salt Font for Title */\n",
    "@import url('https://fonts.googleapis.com/css2?family=Rock+Salt&display=swap');\n",
    "```\n",
    "\n",
    "**Update the font-family specified for the `site-title` in the `custom-styles.scss` file**\n",
    "\n",
    "```\n",
    "/*Change Site Title Font Color and Size*/\n",
    ".site-title, .site-title:visited {\n",
    "    font-family: 'Rock Salt';\n",
    "    color: #f00;\n",
    "    font-size: 275%;\n",
    "}\n",
    "```\n",
    "\n",
    "**Save your updates (Ctrl + S) and commit the changes**\n",
    "\n",
    "\n",
    "Be aware that sometime it takes few minutes for the updates to flow through to your website, even after all of the workflows have completed successfully. So if your changes are not implemented immediately, sometimes all we need is just a little patience.\n",
    "\n",
    "There is a screen shot below to display the new code that should reside in the `custom-styles.scss` file, if you have followed the directions correctly. Many of the customizations I will discuss require accessing the `custom-styles.scss` file, so you should become very familiar with the `_sass\\minima` directory.\n",
    "\n",
    "As a sidenote, you can also see the code required to customize the site-header in the image below. The size and borders of the header can be easily adjusted to accommodate the new font."
   ]
  },
  {
   "cell_type": "markdown",
   "id": "7d84bdd2",
   "metadata": {},
   "source": [
    "![unique_font_image](https://github.com/awault/blog/blob/master/images/post_images/unique_font.png?raw=true)"
   ]
  },
  {
   "cell_type": "markdown",
   "id": "318d9809",
   "metadata": {},
   "source": [
    "---"
   ]
  },
  {
   "cell_type": "markdown",
   "id": "c3640046",
   "metadata": {},
   "source": [
    "## Create Additional Pages"
   ]
  },
  {
   "cell_type": "markdown",
   "id": "7f7f79b4",
   "metadata": {},
   "source": [
    "The backbone of the fastpages platform is the index page. There is a section for summary content beneath the header, followed by another section with links to posts created in Jupyter notebook, Markdown, or Word. Within the header there are navigation links to three other pages; About Me, Search and Tags. If you would like to create additional pages with a navigation link in the header, the process is simple.\n",
    "\n",
    "**Open the repository and navigate to the `_pages` directory**\n",
    "\n",
    "**Create a copy of the `about.md` file**\n",
    "- Copy and paste into the `_pages directory`\n",
    "- Rename the file (e.g. Another Page.md)\n",
    "\n",
    "\n",
    "**Update the Front Matter**\n",
    "- Provide a new title and permalink \n",
    "- Add any new content you like with Markdown under the Front Matter (i.e. below the ---)\n",
    " - Here is a great resource if you are unfamiliar with [Markdown](https://www.markdownguide.org/cheat-sheet/)\n",
    "\n",
    "**Save your updates (Ctrl + S) and commit the changes\n",
    "\n",
    "If you followed these steps correctly, a new page will be created for your blog. The navigation links in the header will update automatically to reflect the changes."
   ]
  },
  {
   "cell_type": "markdown",
   "id": "b75c588c",
   "metadata": {},
   "source": [
    "![add_page_image](https://github.com/awault/blog/blob/master/images/post_images/add_page.png?raw=true)"
   ]
  },
  {
   "cell_type": "markdown",
   "id": "a5fd598f",
   "metadata": {},
   "source": [
    "---"
   ]
  },
  {
   "cell_type": "markdown",
   "id": "456ca0e8",
   "metadata": {},
   "source": [
    "Leonardo da Vinci proclaimed \"Simplicity is the ultimate sophistication\". If you are seeking a simple and elegant solution to remove the footer content, there are only two lines of code required(the comment is optional). Simply copy and paste the following lines of code to the `custom-styles.scss` file in the `_sass\\minima` directory.\n",
    "\n",
    "\n",
    "\n",
    "```\n",
    "/* --- The following Code Removes the Footer --- */\n",
    ".site-footer {\n",
    "    display: none;}\n",
    "```\n",
    "\n",
    "Once this simple update is complete, save the update (Ctrl + S) and commit the changes. Voila... the footer is gone."
   ]
  },
  {
   "cell_type": "markdown",
   "id": "feca2960",
   "metadata": {},
   "source": [
    "---"
   ]
  },
  {
   "cell_type": "markdown",
   "id": "54cb86fc",
   "metadata": {},
   "source": [
    "The options for personalizing your blog are nearly infinite, but that is a wrap for this post. You can check out more of the customizations I have implemented by reviewing the [repository](https://github.com/awault/blog) for my blog on Github. If you have made it this far, thank you for taking the time, I hope you found this post helpful. If you noticed any errors or have any suggestions, please leave a comment.\n",
    "\n",
    "AA"
   ]
  },
  {
   "cell_type": "code",
   "execution_count": null,
   "id": "04b7f7dd",
   "metadata": {},
   "outputs": [],
   "source": []
  }
 ],
 "metadata": {
  "kernelspec": {
   "display_name": "Python [conda env:py39]",
   "language": "python",
   "name": "conda-env-py39-py"
  },
  "language_info": {
   "codemirror_mode": {
    "name": "ipython",
    "version": 3
   },
   "file_extension": ".py",
   "mimetype": "text/x-python",
   "name": "python",
   "nbconvert_exporter": "python",
   "pygments_lexer": "ipython3",
   "version": "3.9.7"
  },
  "toc": {
   "base_numbering": 1,
   "nav_menu": {},
   "number_sections": true,
   "sideBar": true,
   "skip_h1_title": true,
   "title_cell": "Table of Contents",
   "title_sidebar": "Contents",
   "toc_cell": false,
   "toc_position": {},
   "toc_section_display": true,
   "toc_window_display": true
  }
 },
 "nbformat": 4,
 "nbformat_minor": 5
}
