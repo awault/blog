{
 "cells": [
  {
   "cell_type": "markdown",
   "id": "b1ef9d7e",
   "metadata": {},
   "source": [
    "# \"Five Tips to Customize fastpages\"\n",
    "> \"Create a personalized blog hosted free on Github.\"\n",
    "\n",
    "- toc: false\n",
    "- branch: master\n",
    "- image: images/post_images/logo.png\n",
    "- badges: true\n",
    "- comments: true\n",
    "- author: Adam Ault\n",
    "- categories: [fastpages, jupyter]"
   ]
  },
  {
   "cell_type": "markdown",
   "id": "2722f056",
   "metadata": {},
   "source": [
    "The fastpages platform is an excellent option for creating your own blog, hosted free on Github. The platform supports Jupyter notebooks, Word documents and Markdown, which is right in the wheelhouse for many analysts, data scientists and programmers. My knowledge of HTML and website development is limited and I've just recently created my first blog on the fastpages platform. I discovered the learning curve to customize the platform can be steep, but I enjoy digging into new technology. I thought it would be beneficial to assemble a post to help others in their journey.\n",
    "\n",
    "The basic setup for [fastpages](https://github.com/fastai/fastpages) is straightforward, so I'm not going to spend any time on that here. If you are reading this post, you have probably already setup a blog on the fastpages platform and searching for ways to personalize it. In this post, I will review some simple code that you can easily implement to personalize your blog.\n",
    "\n",
    "On a side note, I will be using [Visual Studio Code](https://code.visualstudio.com/) to modify the code in the following examples. If your using another editor, the process may be slightly different."
   ]
  },
  {
   "cell_type": "markdown",
   "id": "2211f96c",
   "metadata": {},
   "source": [
    "## Add a Unique Title Font"
   ]
  },
  {
   "cell_type": "markdown",
   "id": "8c18e092",
   "metadata": {},
   "source": [
    "Adding a unique title font is one of the fastest ways to customize your blog. Personally, I prefer the informal charm of Rock Salt, but there are hundreds of other choices available from [Google Fonts](https://fonts.google.com/). If you desire something beyond the standard flavor, you can check out their offerings by following the link above.\n",
    "\n",
    "Once you have made your selection, there are only a few lines of code required to make the changes. I'll use the Rock Salt example from my blog, to demonstrate the implementation.\n",
    "   \n",
    "    \n",
    "**Select a title font from [Google Fonts](https://fonts.google.com/)**\n",
    "\n",
    "- Click on the icon in the top right hand corner to view your selected families\n",
    "    \n",
    "- Select the @import option and copy the corresponding code such as:\n",
    "    \n",
    "```\n",
    "@import url('https://fonts.googleapis.com/css2?family=Roboto:wght@100&family=Rock+Salt&display=swap');\n",
    "```\n",
    "\n",
    "**Open the repository for your website in VS Code and navigate to the `_sass\\minima` directory**\n",
    "    \n",
    "- Open the `custom-styles.scss` file \n",
    "\n",
    "**Paste the code into the `custom-styles.scss` file**\n",
    "\n",
    "```\n",
    "/* Import Rock Salt Font for Title */\n",
    "@import url('https://fonts.googleapis.com/css2?family=Rock+Salt&display=swap');\n",
    "```\n",
    "\n",
    "**Update the font-family specified for the `site-title` in the `custom-styles.scss` file**\n",
    "\n",
    "```\n",
    "/*Change Site Title Font Color and Size*/\n",
    ".site-title, .site-title:visited {\n",
    "    font-family: 'Rock Salt';\n",
    "    color: #f00;\n",
    "    font-size: 275%;\n",
    "}\n",
    "```\n",
    "\n",
    "**Save your updates (Ctrl + S) and commit the changes to the master branch of the repository**\n",
    "\n",
    "\n",
    "Be aware that sometime it takes few minutes for the updates to flow through to your website, even after all of the workflows have completed successfully. So if your changes are not implemented immediately, sometimes all we need is just a little patience.\n",
    "\n",
    "There is a screen shot below to display the new code that should reside in the `custom-styles.scss` file, if you have followed the directions correctly. Many of the customizations I will discuss require accessing the `custom-styles.scss` file, so you should become very familiar with the `_sass\\minima` directory.\n",
    "\n",
    "As a sidenote, you can also see the code required to customize the site-header in the image below. The size and borders of the header can be easily adjusted to accommodate the new font."
   ]
  },
  {
   "cell_type": "code",
   "execution_count": null,
   "id": "4a266540",
   "metadata": {},
   "outputs": [],
   "source": []
  }
 ],
 "metadata": {
  "kernelspec": {
   "display_name": "Python [conda env:py39]",
   "language": "python",
   "name": "conda-env-py39-py"
  },
  "language_info": {
   "codemirror_mode": {
    "name": "ipython",
    "version": 3
   },
   "file_extension": ".py",
   "mimetype": "text/x-python",
   "name": "python",
   "nbconvert_exporter": "python",
   "pygments_lexer": "ipython3",
   "version": "3.9.7"
  },
  "toc": {
   "base_numbering": 1,
   "nav_menu": {},
   "number_sections": true,
   "sideBar": true,
   "skip_h1_title": true,
   "title_cell": "Table of Contents",
   "title_sidebar": "Contents",
   "toc_cell": false,
   "toc_position": {},
   "toc_section_display": true,
   "toc_window_display": true
  }
 },
 "nbformat": 4,
 "nbformat_minor": 5
}
