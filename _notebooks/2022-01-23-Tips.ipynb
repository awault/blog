{
 "cells": [
  {
   "cell_type": "markdown",
   "id": "1c8d11ee",
   "metadata": {},
   "source": [
    "# \"Five Tips to Customize fastpages\"\n",
    "> \"Create a personalized blog hosted free on Github.\"\n",
    "\n",
    "- toc: false\n",
    "- branch: master\n",
    "- badges: true\n",
    "- comments: true\n",
    "- author: Adam Ault\n",
    "- categories: [fastpages, jupyter]"
   ]
  },
  {
   "cell_type": "markdown",
   "id": "fda27c15",
   "metadata": {},
   "source": [
    "## Add a Unique Title Font"
   ]
  },
  {
   "cell_type": "markdown",
   "id": "34e58049",
   "metadata": {},
   "source": [
    "One of the quickest ways to personalize your website is adding a unique font for the title. I prefer the informal charm of Rock Salt, but there are hundreds of other choices available from [Google Fonts](https://fonts.google.com/). If you desire something beyond the standard flavor, you can check out their offerings by following the link above.\n",
    "\n",
    "Once you have made your selection, there are just a few lines of code required to make the changes. I'll use the Rock Salt example from my blog, to demonstrate the implementation.\n",
    "   \n",
    "    \n",
    "**Select a title font from [Google Fonts](https://fonts.google.com/)**\n",
    "\n",
    "- Click on the icon in the top right hand corner to view your selected families\n",
    "    \n",
    "- Select the @import option and copy the corresponding code such as:\n",
    " \n",
    "    \n",
    "```\n",
    "@import url('https://fonts.googleapis.com/css2?family=Roboto:wght@100&family=Rock+Salt&display=swap');\n",
    "```\n",
    "\n",
    "\n",
    "**Open the repository for your website in VS Code and navigate to the `_sass\\minima` directory**\n",
    "    \n",
    "- Open the `custom-styles.scss` file \n",
    "\n",
    "\n",
    "**Paste the code into the `custom-styles.scss` file**\n",
    "\n",
    "```\n",
    "/* Import Rock Salt Font for Title */\n",
    "@import url('https://fonts.googleapis.com/css2?family=Rock+Salt&display=swap');\n",
    "```\n",
    "\n",
    "\n",
    "**Update the font-family specified for the `site-title` in the `custom-styles.scss` file**\n",
    "\n",
    "\n",
    "```\n",
    "/*Change Site Title Font Color and Size*/\n",
    ".site-title, .site-title:visited {\n",
    "    font-family: 'Rock Salt';\n",
    "    color: #f00;\n",
    "    font-size: 275%;\n",
    "}\n",
    "```\n",
    "\n",
    "\n",
    "**Save your updates (Ctrl + S) and commit the changes to the master branch of the repository**\n",
    "\n",
    "\n",
    "Be aware that sometime it takes few minutes for the updates to flow through to your website, even after all of the workflows have completed successfully. So if your changes are not implemented immediately, sometimes all we need is just a little patience.\n",
    "\n",
    "There is a screen shot below to display the new code that should reside in the `custom-styles.scss` file, if you have followed the directions correctly. Many of the customizations I will discuss require accessing the `custom-styles.scss` file, so you should become very familiar with the `_sass\\minima` directory.\n",
    "\n",
    "As a sidenote, you can also see the code required to customize the site-header in the image below. The size and borders of the header can be easily adjusted to accommodate the new font."
   ]
  },
  {
   "cell_type": "code",
   "execution_count": null,
   "id": "7162c044",
   "metadata": {},
   "outputs": [],
   "source": []
  }
 ],
 "metadata": {
  "kernelspec": {
   "display_name": "Python [conda env:py39]",
   "language": "python",
   "name": "conda-env-py39-py"
  },
  "language_info": {
   "codemirror_mode": {
    "name": "ipython",
    "version": 3
   },
   "file_extension": ".py",
   "mimetype": "text/x-python",
   "name": "python",
   "nbconvert_exporter": "python",
   "pygments_lexer": "ipython3",
   "version": "3.9.7"
  },
  "toc": {
   "base_numbering": 1,
   "nav_menu": {},
   "number_sections": true,
   "sideBar": true,
   "skip_h1_title": true,
   "title_cell": "Table of Contents",
   "title_sidebar": "Contents",
   "toc_cell": false,
   "toc_position": {},
   "toc_section_display": true,
   "toc_window_display": true
  }
 },
 "nbformat": 4,
 "nbformat_minor": 5
}
