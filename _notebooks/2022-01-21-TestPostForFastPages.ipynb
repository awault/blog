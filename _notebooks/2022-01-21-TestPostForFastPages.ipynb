{
 "cells": [
  {
   "cell_type": "markdown",
   "id": "55f25b0e",
   "metadata": {},
   "source": [
    "# \"Test Title\"\n",
    "> \"Test summary is here...\"\n",
    "\n",
    "- toc:true\n",
    "- branch: master\n",
    "- badges: true\n",
    "- comments: true\n",
    "- author: Hamel Husain & Jeremy Howard\n",
    "- categories: [fastpages, jupyter]"
   ]
  },
  {
   "cell_type": "markdown",
   "id": "f90b8e6a",
   "metadata": {},
   "source": [
    "![image](https://github.com/awault/blog/blob/master/images/add_page.png?raw=true)"
   ]
  },
  {
   "cell_type": "markdown",
   "id": "4a93994e",
   "metadata": {},
   "source": [
    "## Chapter 1 (Level 2)"
   ]
  },
  {
   "cell_type": "markdown",
   "id": "8cf6cab5",
   "metadata": {},
   "source": [
    "### Level 3\n",
    "\n",
    "#### Level 4\n",
    "\n",
    "**A Bold Headline**\n",
    "Testing out `code blocks` for my posts.\n",
    "\n",
    "\n",
    "A list of items:\n",
    "- Apples\n",
    "- `Oranges`\n",
    "- Bananas\n",
    "\n"
   ]
  },
  {
   "cell_type": "code",
   "execution_count": 1,
   "id": "d1f1fbaa",
   "metadata": {},
   "outputs": [
    {
     "name": "stdout",
     "output_type": "stream",
     "text": [
      "Hello World\n"
     ]
    }
   ],
   "source": [
    "a = \"Hello World\"\n",
    "print(a)"
   ]
  },
  {
   "cell_type": "markdown",
   "id": "beec4495",
   "metadata": {},
   "source": [
    "##### Level 5\n",
    "\n",
    "**Bold**\n",
    "\n",
    "*Italic*\n",
    "\n",
    "***Bold & Italic***\n",
    "\n",
    "A short sentence with regular text.\n",
    "\n",
    "```\n",
    "Here is another code block\n",
    "```"
   ]
  },
  {
   "cell_type": "code",
   "execution_count": null,
   "id": "1370dcbf",
   "metadata": {},
   "outputs": [],
   "source": []
  }
 ],
 "metadata": {
  "kernelspec": {
   "display_name": "Python [conda env:py39]",
   "language": "python",
   "name": "conda-env-py39-py"
  },
  "language_info": {
   "codemirror_mode": {
    "name": "ipython",
    "version": 3
   },
   "file_extension": ".py",
   "mimetype": "text/x-python",
   "name": "python",
   "nbconvert_exporter": "python",
   "pygments_lexer": "ipython3",
   "version": "3.9.7"
  },
  "toc": {
   "base_numbering": 1,
   "nav_menu": {},
   "number_sections": true,
   "sideBar": true,
   "skip_h1_title": true,
   "title_cell": "Table of Contents",
   "title_sidebar": "Contents",
   "toc_cell": false,
   "toc_position": {},
   "toc_section_display": true,
   "toc_window_display": true
  }
 },
 "nbformat": 4,
 "nbformat_minor": 5
}
